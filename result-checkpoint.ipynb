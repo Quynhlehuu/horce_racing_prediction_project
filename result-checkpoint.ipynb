{
 "cells": [
  {
   "cell_type": "markdown",
   "id": "35c71e83",
   "metadata": {},
   "source": [
    "## Report"
   ]
  },
  {
   "cell_type": "code",
   "execution_count": 2,
   "id": "1e945d65",
   "metadata": {},
   "outputs": [],
   "source": [
    "import pandas as pd\n",
    "result = pd.read_csv(\"./data/result.csv\")"
   ]
  },
  {
   "cell_type": "code",
   "execution_count": 3,
   "id": "118e54b2",
   "metadata": {},
   "outputs": [
    {
     "data": {
      "text/html": [
       "<div>\n",
       "<style scoped>\n",
       "    .dataframe tbody tr th:only-of-type {\n",
       "        vertical-align: middle;\n",
       "    }\n",
       "\n",
       "    .dataframe tbody tr th {\n",
       "        vertical-align: top;\n",
       "    }\n",
       "\n",
       "    .dataframe thead th {\n",
       "        text-align: right;\n",
       "    }\n",
       "</style>\n",
       "<table border=\"1\" class=\"dataframe\">\n",
       "  <thead>\n",
       "    <tr style=\"text-align: right;\">\n",
       "      <th></th>\n",
       "      <th>Algorithm</th>\n",
       "      <th>Jaccard-training</th>\n",
       "      <th>F1-score-training</th>\n",
       "      <th>Jaccard-testing</th>\n",
       "      <th>F1-score-testing</th>\n",
       "    </tr>\n",
       "  </thead>\n",
       "  <tbody>\n",
       "    <tr>\n",
       "      <th>0</th>\n",
       "      <td>KNN</td>\n",
       "      <td>0.638445</td>\n",
       "      <td>0.728536</td>\n",
       "      <td>0.622861</td>\n",
       "      <td>0.711447</td>\n",
       "    </tr>\n",
       "    <tr>\n",
       "      <th>1</th>\n",
       "      <td>Decision Tree</td>\n",
       "      <td>0.638554</td>\n",
       "      <td>0.728549</td>\n",
       "      <td>0.620450</td>\n",
       "      <td>0.709552</td>\n",
       "    </tr>\n",
       "    <tr>\n",
       "      <th>2</th>\n",
       "      <td>Random Forest</td>\n",
       "      <td>0.640529</td>\n",
       "      <td>0.725661</td>\n",
       "      <td>0.619444</td>\n",
       "      <td>0.698747</td>\n",
       "    </tr>\n",
       "    <tr>\n",
       "      <th>3</th>\n",
       "      <td>Logistic Regression</td>\n",
       "      <td>0.620886</td>\n",
       "      <td>0.702533</td>\n",
       "      <td>0.622357</td>\n",
       "      <td>0.706219</td>\n",
       "    </tr>\n",
       "    <tr>\n",
       "      <th>4</th>\n",
       "      <td>Neural Network</td>\n",
       "      <td>0.620490</td>\n",
       "      <td>0.700543</td>\n",
       "      <td>0.620982</td>\n",
       "      <td>0.702031</td>\n",
       "    </tr>\n",
       "    <tr>\n",
       "      <th>5</th>\n",
       "      <td>Hard Voting</td>\n",
       "      <td>0.741783</td>\n",
       "      <td>0.832975</td>\n",
       "      <td>0.622070</td>\n",
       "      <td>0.705020</td>\n",
       "    </tr>\n",
       "    <tr>\n",
       "      <th>6</th>\n",
       "      <td>Soft Voting</td>\n",
       "      <td>0.869253</td>\n",
       "      <td>0.926957</td>\n",
       "      <td>0.626875</td>\n",
       "      <td>0.718817</td>\n",
       "    </tr>\n",
       "  </tbody>\n",
       "</table>\n",
       "</div>"
      ],
      "text/plain": [
       "             Algorithm  Jaccard-training  F1-score-training  Jaccard-testing  \\\n",
       "0                  KNN          0.638445           0.728536         0.622861   \n",
       "1        Decision Tree          0.638554           0.728549         0.620450   \n",
       "2        Random Forest          0.640529           0.725661         0.619444   \n",
       "3  Logistic Regression          0.620886           0.702533         0.622357   \n",
       "4       Neural Network          0.620490           0.700543         0.620982   \n",
       "5          Hard Voting          0.741783           0.832975         0.622070   \n",
       "6          Soft Voting          0.869253           0.926957         0.626875   \n",
       "\n",
       "   F1-score-testing  \n",
       "0          0.711447  \n",
       "1          0.709552  \n",
       "2          0.698747  \n",
       "3          0.706219  \n",
       "4          0.702031  \n",
       "5          0.705020  \n",
       "6          0.718817  "
      ]
     },
     "execution_count": 3,
     "metadata": {},
     "output_type": "execute_result"
    }
   ],
   "source": [
    "result"
   ]
  },
  {
   "cell_type": "code",
   "execution_count": null,
   "id": "99c7e40f",
   "metadata": {},
   "outputs": [],
   "source": [
    "\n"
   ]
  },
  {
   "cell_type": "code",
   "execution_count": null,
   "id": "09e642f2",
   "metadata": {},
   "outputs": [],
   "source": []
  },
  {
   "cell_type": "code",
   "execution_count": null,
   "id": "27cf853c",
   "metadata": {},
   "outputs": [],
   "source": []
  },
  {
   "cell_type": "code",
   "execution_count": null,
   "id": "38dcd208",
   "metadata": {},
   "outputs": [],
   "source": []
  },
  {
   "cell_type": "code",
   "execution_count": null,
   "id": "7c936ea3",
   "metadata": {},
   "outputs": [],
   "source": []
  }
 ],
 "metadata": {
  "kernelspec": {
   "display_name": "Python 3 (ipykernel)",
   "language": "python",
   "name": "python3"
  },
  "language_info": {
   "codemirror_mode": {
    "name": "ipython",
    "version": 3
   },
   "file_extension": ".py",
   "mimetype": "text/x-python",
   "name": "python",
   "nbconvert_exporter": "python",
   "pygments_lexer": "ipython3",
   "version": "3.11.4"
  }
 },
 "nbformat": 4,
 "nbformat_minor": 5
}
